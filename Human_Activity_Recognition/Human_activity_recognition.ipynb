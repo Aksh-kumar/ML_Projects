{
 "cells": [
  {
   "cell_type": "markdown",
   "metadata": {},
   "source": [
    "The data was collected from 30 subjects aged between 19 and 48 years old performing one of six\n",
    "standard activities while wearing a waist-mounted smartphone that recorded the movement data.\n",
    "The movement data was labeled manually."
   ]
  },
  {
   "cell_type": "markdown",
   "metadata": {},
   "source": [
    "### The six activities performed were as follows:\n",
    "\n",
    "<li>Walking</li>\n",
    "<li>Walking Upstairs</li>\n",
    "<li>Walking Downstairs</li>\n",
    "<li>Sitting</li>\n",
    "<li>Standing</li>\n",
    "<li>Laying</li>"
   ]
  },
  {
   "cell_type": "markdown",
   "metadata": {},
   "source": [
    "The pre-processing data include<br>\n",
    "1.Pre-processing accelerometer and gyroscope using noise filters.\n",
    "<br>2.Splitting data into fixed windows of 2.56 seconds (128 data points) with 50% overlap.Splitting of accelerometer data into gravitational (total) and body motion components."
   ]
  },
  {
   "cell_type": "code",
   "execution_count": 3,
   "metadata": {},
   "outputs": [],
   "source": [
    "#Import necessary module\n",
    "import os\n",
    "import numpy as np\n",
    "import pandas as pd"
   ]
  },
  {
   "cell_type": "markdown",
   "metadata": {},
   "source": [
    "### Develop an LSTM Network Model\n",
    "LSTM network models are a type of recurrent neural network that are able to learn and remember\n",
    "over long sequences of input data. They are intended for use with data that is comprised of long\n",
    "sequences of data, up to 200 to 400 time steps. They may be a good fit for this problem."
   ]
  },
  {
   "cell_type": "code",
   "execution_count": 4,
   "metadata": {},
   "outputs": [],
   "source": [
    "def load_file(path):\n",
    "    dataset = pd.read_csv(path, header=None, delim_whitespace=True)\n",
    "    return dataset.values"
   ]
  },
  {
   "cell_type": "markdown",
   "metadata": {},
   "source": [
    "There are three main signal types in the raw data: total acceleration, body acceleration, and body gyroscope.\n",
    "Each has 3 axises of data. This means that there are a total of nine variables for each time step.\n",
    "Further, each series of data has been partitioned into overlapping windows of 2.56 seconds of data,\n",
    "or 128 time steps. These windows of data correspond to the windows of engineered features (rows) in\n",
    "the previous section."
   ]
  },
  {
   "cell_type": "code",
   "execution_count": 5,
   "metadata": {},
   "outputs": [],
   "source": [
    "def load_data(file_path, filenames):\n",
    "    loaded = []\n",
    "    for name in filenames:\n",
    "        data = load_file(os.path.join(file_path, file_name))\n",
    "        loaded.append(data)\n",
    "    loaded = np.dstack(loaded)\n",
    "    return loaded"
   ]
  },
  {
   "cell_type": "code",
   "execution_count": 6,
   "metadata": {},
   "outputs": [],
   "source": [
    "def load_all_data(filepath, datatype='train', foldername='Inertial Signal'):\n",
    "    co_ordinate = ('x', 'y', 'z')\n",
    "    extension = '.txt'\n",
    "    total_acceleration_file_list = ['total_acc_{0}_{1}'.format(x, datatype+extension) for x in co_ordinate]\n",
    "    body_gyroscope_file_list = ['body_gyro_{0}_{1}'.format(x, datatype+extension) for x in co_ordinate]\n",
    "    body_acceleration_file_list = ['body_acc_{0}_{1}'.format(x, datatype+extension) for x in co_ordinate]\n",
    "    # load feature\n",
    "    X = load_data(os.path.join(filepath, foldername),\n",
    "                  total_acceleration_file_list+body_gyroscope_file_list+body_acceleration_file_list)\n",
    "    # load labels\n",
    "    path = os.join.path(filepath, datatype, 'y', datatype, extension)\n",
    "    y = load_file(path)\n",
    "    return X, y"
   ]
  },
  {
   "cell_type": "code",
   "execution_count": null,
   "metadata": {},
   "outputs": [],
   "source": [
    "filepath = './UCI HAR Dataset/'\n",
    "train_folder = 'train'\n"
   ]
  }
 ],
 "metadata": {
  "kernelspec": {
   "display_name": "Python 3",
   "language": "python",
   "name": "python3"
  },
  "language_info": {
   "codemirror_mode": {
    "name": "ipython",
    "version": 3
   },
   "file_extension": ".py",
   "mimetype": "text/x-python",
   "name": "python",
   "nbconvert_exporter": "python",
   "pygments_lexer": "ipython3",
   "version": "3.7.3"
  }
 },
 "nbformat": 4,
 "nbformat_minor": 2
}
