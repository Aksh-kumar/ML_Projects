{
 "cells": [
  {
   "cell_type": "markdown",
   "metadata": {},
   "source": [
    "### Time series Data Analysis using AR model."
   ]
  },
  {
   "cell_type": "markdown",
   "metadata": {},
   "source": [
    "Autoregression(AR) is a time series model that uses observations\n",
    "from previous time steps as input to a regression equation to \n",
    "predict the value at the next time step."
   ]
  },
  {
   "cell_type": "markdown",
   "metadata": {},
   "source": [
    "### Problem statement\n",
    "Given daywise Timeseries data of Minimum temperature predict the next day minimum temperature"
   ]
  },
  {
   "cell_type": "markdown",
   "metadata": {},
   "source": [
    "Importing Important libraries"
   ]
  },
  {
   "cell_type": "code",
   "execution_count": 3,
   "metadata": {},
   "outputs": [],
   "source": [
    "import numpy as np\n",
    "import pandas as pd\n",
    "from functools import reduce\n",
    "from matplotlib import pyplot as plt\n",
    "from statsmodels.graphics.tsaplots import plot_acf\n",
    "from statsmodels.tsa.stattools import adfuller\n",
    "from sklearn.metrics import mean_squared_error\n",
    "from statsmodels.tsa.ar_model import AR\n",
    "from pandas.plotting import autocorrelation_plot"
   ]
  },
  {
   "cell_type": "markdown",
   "metadata": {},
   "source": [
    "Importing Data into pandas dataframe"
   ]
  },
  {
   "cell_type": "code",
   "execution_count": 4,
   "metadata": {},
   "outputs": [
    {
     "data": {
      "text/html": [
       "<div>\n",
       "<style scoped>\n",
       "    .dataframe tbody tr th:only-of-type {\n",
       "        vertical-align: middle;\n",
       "    }\n",
       "\n",
       "    .dataframe tbody tr th {\n",
       "        vertical-align: top;\n",
       "    }\n",
       "\n",
       "    .dataframe thead th {\n",
       "        text-align: right;\n",
       "    }\n",
       "</style>\n",
       "<table border=\"1\" class=\"dataframe\">\n",
       "  <thead>\n",
       "    <tr style=\"text-align: right;\">\n",
       "      <th></th>\n",
       "      <th>Temp</th>\n",
       "    </tr>\n",
       "    <tr>\n",
       "      <th>Date</th>\n",
       "      <th></th>\n",
       "    </tr>\n",
       "  </thead>\n",
       "  <tbody>\n",
       "    <tr>\n",
       "      <td>1981-01-01</td>\n",
       "      <td>20.7</td>\n",
       "    </tr>\n",
       "    <tr>\n",
       "      <td>1981-01-02</td>\n",
       "      <td>17.9</td>\n",
       "    </tr>\n",
       "    <tr>\n",
       "      <td>1981-01-03</td>\n",
       "      <td>18.8</td>\n",
       "    </tr>\n",
       "    <tr>\n",
       "      <td>1981-01-04</td>\n",
       "      <td>14.6</td>\n",
       "    </tr>\n",
       "    <tr>\n",
       "      <td>1981-01-05</td>\n",
       "      <td>15.8</td>\n",
       "    </tr>\n",
       "  </tbody>\n",
       "</table>\n",
       "</div>"
      ],
      "text/plain": [
       "            Temp\n",
       "Date            \n",
       "1981-01-01  20.7\n",
       "1981-01-02  17.9\n",
       "1981-01-03  18.8\n",
       "1981-01-04  14.6\n",
       "1981-01-05  15.8"
      ]
     },
     "execution_count": 4,
     "metadata": {},
     "output_type": "execute_result"
    }
   ],
   "source": [
    "dataset = pd.read_csv('./Data/daily-min-temperatures.csv', header=0, index_col=0)\n",
    "dataset.head(5)"
   ]
  },
  {
   "cell_type": "markdown",
   "metadata": {},
   "source": [
    "Visualize the data "
   ]
  },
  {
   "cell_type": "code",
   "execution_count": 5,
   "metadata": {},
   "outputs": [
    {
     "data": {
      "text/plain": [
       "<matplotlib.axes._subplots.AxesSubplot at 0x27f423e1198>"
      ]
     },
     "execution_count": 5,
     "metadata": {},
     "output_type": "execute_result"
    },
    {
     "data": {
      "image/png": "[encoded data removed]",
      "text/plain": [
       "<Figure size 432x288 with 1 Axes>"
      ]
     },
     "metadata": {
      "needs_background": "light"
     },
     "output_type": "display_data"
    }
   ],
   "source": [
    "dataset.plot()"
   ]
  },
  {
   "cell_type": "markdown",
   "metadata": {},
   "source": [
    "### condition to be stationarity\n",
    "<li>constant mean\n",
    "<li>constant variance\n",
    "<li>an autocovariance that does not depend on time.\n",
    "<br/>Method of check stationarity\n",
    "    <li>ADF Test\n",
    "    <li>KPSS Test"
   ]
  },
  {
   "cell_type": "markdown",
   "metadata": {},
   "source": [
    "### Perform Augumented Ducky Fuller test to check for stationarity\n",
    "#### It determine the presence of unit root in the series\n",
    "<li>Null Hypothesis: The series has a unit root (value of a =1)\n",
    "<li>Alternate Hypothesis: The series has no unit root.\n",
    "<br>\n",
    "Unit root indicates that the statistical properties of a given series are not constant with time\n",
    "<br>\n",
    "    let for some time series :<br/>\n",
    "    y<sub>t</sub> = a*y<sub>t-1</sub> + ε<sub>t</sub>\n",
    "    y<sub>t-1</sub> = a*y<sub>t-2</sub> + ε<sub>t</sub><br/>\n",
    "    for all observations, the value of yt will come out to be:<br/>\n",
    "    y<sub>t</sub> = a<sup>n</sup>*y<sub>t-n</sub> + Σε<sub>t-i</sub>*a<sup>i</sup><br/>\n",
    "    If the value of a is 1 (unit) in the above equation, then the predictions will be equal to the y<sub>t-n</sub> and sum of all errors from t-n to t, which means that the variance will increase with time. This is knows as unit root in a time series and for a stationary time series, the variance must not be a function of time.<br/>\n",
    "    If the test statistic is less than the critical value, we can reject the null hypothesis (means the series is stationary). else we fail to reject the null hypothesis (The series is not stationary)."
   ]
  },
  {
   "cell_type": "code",
   "execution_count": 54,
   "metadata": {},
   "outputs": [
    {
     "data": {
      "text/plain": [
       "True"
      ]
     },
     "execution_count": 54,
     "metadata": {},
     "output_type": "execute_result"
    }
   ],
   "source": [
    "\"\"\"return boolean whether dataset id stationary from Augumented Ducky Fuller method test pass or not\"\"\"\n",
    "def adf_test(data):\n",
    "    testres = adfuller(data, autolag='AIC')\n",
    "    test_statistic = testres[0] # order Test Statistic, p-value, number of Lags Used,Number of Observations Used, critial val.\n",
    "    for key,value in testres[4].items():\n",
    "        if test_statistic > value and testres[1] > 0.05: # t-stat less then all critical value and p value less then 0.005\n",
    "            return False\n",
    "    return True\n",
    "adf_test(dataset['Temp'].values)"
   ]
  },
  {
   "cell_type": "markdown",
   "metadata": {},
   "source": [
    "### Autoregression\n",
    "In simple linear regression case output is a linear combination of Input\n",
    "i.e \n",
    "y^=b0 + b1*x\n",
    "for timeseries model value at particular time t can be expressed as linear combination \n",
    "of previous observation\n",
    "i.e\n",
    "y(t) = b0 + b1*y(t-1) + b2*y(t-2) ...\n",
    "### Autocorrelation\n",
    "In autoregression model it is assumed that previous observation is useful to predict the\n",
    "value at next time step.\n",
    "relationship between variables is called correlation.\n",
    "Since correlation is calculated between itself after some lag of time hence autocorrelation.\n",
    "If all lag variable shows no correlation then time series may not be predictable."
   ]
  },
  {
   "cell_type": "markdown",
   "metadata": {},
   "source": [
    "Obtained the auto correlation of temperature  "
   ]
  },
  {
   "cell_type": "code",
   "execution_count": 6,
   "metadata": {},
   "outputs": [
    {
     "name": "stdout",
     "output_type": "stream",
     "text": [
      "            Temp  Temp\n",
      "Date                  \n",
      "1981-01-01   NaN  20.7\n",
      "1981-01-02  20.7  17.9\n",
      "1981-01-03  17.9  18.8\n",
      "1981-01-04  18.8  14.6\n",
      "1981-01-05  14.6  15.8\n",
      "           t      t+1\n",
      "t    1.00000  0.77487\n",
      "t+1  0.77487  1.00000\n"
     ]
    }
   ],
   "source": [
    "dataframe = pd.concat([dataset.shift(1)['Temp'], dataset['Temp']], axis=1)\n",
    "# make dataframe of dataset itself and same dataset but shifted by 1 lag\n",
    "print(dataframe.head(5))\n",
    "dataframe.columns = ['t', 't+1']\n",
    "result = dataframe.corr() # give correlation\n",
    "print(result)"
   ]
  },
  {
   "cell_type": "markdown",
   "metadata": {},
   "source": [
    "fig 1. correlation coefficient for each lag variable.\n",
    "<br>\n",
    "fig 2. autocorrelation function Plots lags on the horizontal and the correlations on vertical axis."
   ]
  },
  {
   "cell_type": "code",
   "execution_count": 8,
   "metadata": {},
   "outputs": [
    {
     "data": {
      "image/png": "[encoded data removed]",
      "text/plain": [
       "<Figure size 432x288 with 1 Axes>"
      ]
     },
     "metadata": {
      "needs_background": "light"
     },
     "output_type": "display_data"
    },
    {
     "data": {
      "image/png": "[encoded data removed]",
      "text/plain": [
       "<Figure size 432x288 with 1 Axes>"
      ]
     },
     "metadata": {
      "needs_background": "light"
     },
     "output_type": "display_data"
    }
   ],
   "source": [
    "autocorrelation_plot(dataset)\n",
    "plt.show()\n",
    "plot_acf(dataset, lags=50)\n",
    "plt.show()"
   ]
  },
  {
   "cell_type": "markdown",
   "metadata": {},
   "source": [
    "Test train split of data but not shuffle the data"
   ]
  },
  {
   "cell_type": "code",
   "execution_count": 10,
   "metadata": {},
   "outputs": [],
   "source": [
    "X = dataset.values"
   ]
  },
  {
   "cell_type": "code",
   "execution_count": 29,
   "metadata": {},
   "outputs": [],
   "source": [
    "test_size = 0.0017\n",
    "len_X = len(X)\n",
    "split_index = int((len_X - len_X*test_size))\n",
    "X_train, X_test = X[1:split_index], X[split_index:]"
   ]
  },
  {
   "cell_type": "code",
   "execution_count": 30,
   "metadata": {},
   "outputs": [
    {
     "name": "stdout",
     "output_type": "stream",
     "text": [
      "3642\n",
      "7\n"
     ]
    }
   ],
   "source": [
    "print(len(X_train))\n",
    "print(len(X_test))"
   ]
  },
  {
   "cell_type": "markdown",
   "metadata": {},
   "source": [
    "Creation of AR model from AR class which automatically calculate the number of prior lag it should use"
   ]
  },
  {
   "cell_type": "code",
   "execution_count": 31,
   "metadata": {},
   "outputs": [
    {
     "name": "stdout",
     "output_type": "stream",
     "text": [
      "Lag: 29\n",
      "Coefficients: [ 5.57543506e-01  5.88595221e-01 -9.08257090e-02  4.82615092e-02\n",
      "  4.00650265e-02  3.93020055e-02  2.59463738e-02  4.46675960e-02\n",
      "  1.27681498e-02  3.74362239e-02 -8.11700276e-04  4.79081949e-03\n",
      "  1.84731397e-02  2.68908418e-02  5.75906178e-04  2.48096415e-02\n",
      "  7.40316579e-03  9.91622149e-03  3.41599123e-02 -9.11961877e-03\n",
      "  2.42127561e-02  1.87870751e-02  1.21841870e-02 -1.85534575e-02\n",
      " -1.77162867e-03  1.67319894e-02  1.97615668e-02  9.83245087e-03\n",
      "  6.22710723e-03 -1.37732255e-03]\n"
     ]
    }
   ],
   "source": [
    "ar_model = AR(X_train)\n",
    "ar_model = ar_model.fit()\n",
    "prior_lag = ar_model.k_ar\n",
    "coeff = ar_model.params\n",
    "print('Lag: {0}'.format(prior_lag))\n",
    "print('Coefficients: {0}'.format(coeff))"
   ]
  },
  {
   "cell_type": "markdown",
   "metadata": {},
   "source": [
    "Make prediction of test dataset"
   ]
  },
  {
   "cell_type": "code",
   "execution_count": 43,
   "metadata": {},
   "outputs": [
    {
     "name": "stdout",
     "output_type": "stream",
     "text": [
      "prediction 11.87127484772783 actual: [12.9]\n",
      "prediction [13.65929693] actual: [14.6]\n",
      "prediction [14.34924559] actual: [14.]\n",
      "prediction [13.42745378] actual: [13.6]\n",
      "prediction [13.37487746] actual: [13.5]\n",
      "prediction [13.47999077] actual: [15.7]\n",
      "prediction [14.76514638] actual: [13.]\n",
      "Test MSE: 1.451\n"
     ]
    }
   ],
   "source": [
    "prior_29_lag = X_train[len(X_train)-prior_lag:].reshape(-1).tolist()\n",
    "def predict(prior_29_lag, coeff) :\n",
    "    b0 = coeff[0]\n",
    "    # prediction = b0 + b1*y(t-1) + b2*y(t-2) ..... b29*y(t-29)\n",
    "    prediction = reduce(lambda x, y : x + y[0]*y[1], list(zip(prior_29_lag, coeff[1:][::-1])), b0)\n",
    "    return prediction\n",
    "prediction = []\n",
    "for i in X_test :\n",
    "    pred = predict(prior_29_lag, coeff)\n",
    "    # sliding the window for next prediction\n",
    "    del prior_29_lag[0] \n",
    "    prior_29_lag.append(i)\n",
    "    prediction.append(pred)\n",
    "    print('prediction {0} actual: {1}'.format(pred, i))\n",
    "error = mean_squared_error(X_test, np.array(prediction))\n",
    "print('Test MSE: %.3f' %error)"
   ]
  },
  {
   "cell_type": "markdown",
   "metadata": {},
   "source": [
    "redict next value with predicted as rolled to new y<sub>t-1</sub>"
   ]
  },
  {
   "cell_type": "code",
   "execution_count": 44,
   "metadata": {},
   "outputs": [
    {
     "data": {
      "text/plain": [
       "array([13.17945991])"
      ]
     },
     "execution_count": 44,
     "metadata": {},
     "output_type": "execute_result"
    }
   ],
   "source": [
    "def predict_next(prior_29_lag, coeff) :\n",
    "    pred = predict(prior_29_lag, coeff)\n",
    "    del prior_29_lag[0]\n",
    "    prior_29_lag.append(pred)\n",
    "    return pred\n",
    "predict_next(prior_29_lag, coeff)"
   ]
  },
  {
   "cell_type": "code",
   "execution_count": null,
   "metadata": {},
   "outputs": [],
   "source": []
  }
 ],
 "metadata": {
  "kernelspec": {
   "display_name": "Python 3",
   "language": "python",
   "name": "python3"
  },
  "language_info": {
   "codemirror_mode": {
    "name": "ipython",
    "version": 3
   },
   "file_extension": ".py",
   "mimetype": "text/x-python",
   "name": "python",
   "nbconvert_exporter": "python",
   "pygments_lexer": "ipython3",
   "version": "3.7.3"
  }
 },
 "nbformat": 4,
 "nbformat_minor": 2
}
