{
 "cells": [
  {
   "cell_type": "markdown",
   "metadata": {},
   "source": [
    "# Iris Data set classification problem"
   ]
  },
  {
   "cell_type": "markdown",
   "metadata": {},
   "source": [
    "\n",
    "\"\"\"This data set consists of the physical parameters of three species of \n",
    "flower — Versicolor, Setosa and Virginica.\n",
    "The numeric parameters which the dataset contains are Sepal width, Sepal length, Petal width and Petal length.\n",
    "In this data we will be predicting the classes of the flowers based on these parameters.\n",
    "The data consists of continuous numeric values which describe the dimensions of the respective features. \n",
    "We will be training the model based on these features.\"\"\""
   ]
  },
  {
   "cell_type": "markdown",
   "metadata": {},
   "source": [
    "Import all the necessary packages"
   ]
  },
  {
   "cell_type": "code",
   "execution_count": 58,
   "metadata": {},
   "outputs": [],
   "source": [
    "import numpy as np\n",
    "import pandas as pd\n",
    "import matplotlib.pyplot as plt\n",
    "from sklearn import model_selection\n",
    "from sklearn.metrics import classification_report\n",
    "from sklearn.metrics import confusion_matrix\n",
    "from sklearn.metrics import accuracy_score\n",
    "from sklearn.metrics import balanced_accuracy_score\n",
    "from sklearn.linear_model import LogisticRegression\n",
    "from sklearn.tree import DecisionTreeClassifier\n",
    "from sklearn.neighbors import KNeighborsClassifier\n",
    "from sklearn.discriminant_analysis import LinearDiscriminantAnalysis\n",
    "from sklearn.naive_bayes import GaussianNB\n",
    "from sklearn.svm import SVC\n",
    "from sklearn.preprocessing import scale\n",
    "from sklearn.ensemble import RandomForestClassifier\n",
    "from sklearn.ensemble import ExtraTreesClassifier\n",
    "from sklearn.ensemble import AdaBoostClassifier\n",
    "from sklearn.ensemble import GradientBoostingClassifier"
   ]
  },
  {
   "cell_type": "markdown",
   "metadata": {},
   "source": [
    "fetch the column name from Iris.names file and load the data from csv file"
   ]
  },
  {
   "cell_type": "code",
   "execution_count": 2,
   "metadata": {},
   "outputs": [],
   "source": [
    "#fetch the column name from Iris.names file\n",
    "column_names = ['sepel_length', 'sepal_width', 'petal_length', 'petal_width', 'class']\n",
    "# load the data\n",
    "dataset = pd.read_csv('iris.data', names = column_names ,header=None)"
   ]
  },
  {
   "cell_type": "markdown",
   "metadata": {},
   "source": [
    "check the data first 3 and remove if any null valued in column or rows are present"
   ]
  },
  {
   "cell_type": "code",
   "execution_count": 3,
   "metadata": {},
   "outputs": [
    {
     "name": "stdout",
     "output_type": "stream",
     "text": [
      "   sepel_length  sepal_width  petal_length  petal_width        class\n",
      "0           5.1          3.5           1.4          0.2  Iris-setosa\n",
      "1           4.9          3.0           1.4          0.2  Iris-setosa\n",
      "2           4.7          3.2           1.3          0.2  Iris-setosa\n",
      "sepel_length    0\n",
      "sepal_width     0\n",
      "petal_length    0\n",
      "petal_width     0\n",
      "class           0\n",
      "dtype: int64\n"
     ]
    },
    {
     "data": {
      "text/html": [
       "<div>\n",
       "<style scoped>\n",
       "    .dataframe tbody tr th:only-of-type {\n",
       "        vertical-align: middle;\n",
       "    }\n",
       "\n",
       "    .dataframe tbody tr th {\n",
       "        vertical-align: top;\n",
       "    }\n",
       "\n",
       "    .dataframe thead th {\n",
       "        text-align: right;\n",
       "    }\n",
       "</style>\n",
       "<table border=\"1\" class=\"dataframe\">\n",
       "  <thead>\n",
       "    <tr style=\"text-align: right;\">\n",
       "      <th></th>\n",
       "      <th>sepel_length</th>\n",
       "      <th>sepal_width</th>\n",
       "      <th>petal_length</th>\n",
       "      <th>petal_width</th>\n",
       "    </tr>\n",
       "  </thead>\n",
       "  <tbody>\n",
       "    <tr>\n",
       "      <th>count</th>\n",
       "      <td>150.000000</td>\n",
       "      <td>150.000000</td>\n",
       "      <td>150.000000</td>\n",
       "      <td>150.000000</td>\n",
       "    </tr>\n",
       "    <tr>\n",
       "      <th>mean</th>\n",
       "      <td>5.843333</td>\n",
       "      <td>3.054000</td>\n",
       "      <td>3.758667</td>\n",
       "      <td>1.198667</td>\n",
       "    </tr>\n",
       "    <tr>\n",
       "      <th>std</th>\n",
       "      <td>0.828066</td>\n",
       "      <td>0.433594</td>\n",
       "      <td>1.764420</td>\n",
       "      <td>0.763161</td>\n",
       "    </tr>\n",
       "    <tr>\n",
       "      <th>min</th>\n",
       "      <td>4.300000</td>\n",
       "      <td>2.000000</td>\n",
       "      <td>1.000000</td>\n",
       "      <td>0.100000</td>\n",
       "    </tr>\n",
       "    <tr>\n",
       "      <th>25%</th>\n",
       "      <td>5.100000</td>\n",
       "      <td>2.800000</td>\n",
       "      <td>1.600000</td>\n",
       "      <td>0.300000</td>\n",
       "    </tr>\n",
       "    <tr>\n",
       "      <th>50%</th>\n",
       "      <td>5.800000</td>\n",
       "      <td>3.000000</td>\n",
       "      <td>4.350000</td>\n",
       "      <td>1.300000</td>\n",
       "    </tr>\n",
       "    <tr>\n",
       "      <th>75%</th>\n",
       "      <td>6.400000</td>\n",
       "      <td>3.300000</td>\n",
       "      <td>5.100000</td>\n",
       "      <td>1.800000</td>\n",
       "    </tr>\n",
       "    <tr>\n",
       "      <th>max</th>\n",
       "      <td>7.900000</td>\n",
       "      <td>4.400000</td>\n",
       "      <td>6.900000</td>\n",
       "      <td>2.500000</td>\n",
       "    </tr>\n",
       "  </tbody>\n",
       "</table>\n",
       "</div>"
      ],
      "text/plain": [
       "       sepel_length  sepal_width  petal_length  petal_width\n",
       "count    150.000000   150.000000    150.000000   150.000000\n",
       "mean       5.843333     3.054000      3.758667     1.198667\n",
       "std        0.828066     0.433594      1.764420     0.763161\n",
       "min        4.300000     2.000000      1.000000     0.100000\n",
       "25%        5.100000     2.800000      1.600000     0.300000\n",
       "50%        5.800000     3.000000      4.350000     1.300000\n",
       "75%        6.400000     3.300000      5.100000     1.800000\n",
       "max        7.900000     4.400000      6.900000     2.500000"
      ]
     },
     "execution_count": 3,
     "metadata": {},
     "output_type": "execute_result"
    }
   ],
   "source": [
    "# check the data first 3\n",
    "print(dataset.head(3))\n",
    "#dataset.tail(3)\n",
    "# check if any null value is present or not in any column\n",
    "print(dataset.isnull().sum())\n",
    "# print the small summary of data\n",
    "dataset.describe()"
   ]
  },
  {
   "cell_type": "markdown",
   "metadata": {},
   "source": [
    "box and whisker plots for see the distribution and median of data\n",
    "sharex : boolean, default True if ax is None else False In case subplots=True, share x axis and set some x axis labels to invisible; defaults to True\n",
    "subplots : boolean, default False Make separate subplots for each column\n",
    "layout : tuple (optional) (rows, columns) for the layout of subplots\n",
    "sharey : boolean, default False In case subplots=True, share y axis and set some y axis labels to invisible"
   ]
  },
  {
   "cell_type": "code",
   "execution_count": 4,
   "metadata": {},
   "outputs": [
    {
     "data": {
      "image/png": "[encoded data removed]",
      "text/plain": [
       "<Figure size 432x288 with 4 Axes>"
      ]
     },
     "metadata": {
      "needs_background": "light"
     },
     "output_type": "display_data"
    }
   ],
   "source": [
    "dataset.plot(kind='box', subplots=True, layout=(2,2), sharex=False, sharey=False)\n",
    "plt.show()"
   ]
  },
  {
   "cell_type": "code",
   "execution_count": 5,
   "metadata": {},
   "outputs": [
    {
     "data": {
      "image/png": "[encoded data removed]",
      "text/plain": [
       "<Figure size 432x288 with 4 Axes>"
      ]
     },
     "metadata": {
      "needs_background": "light"
     },
     "output_type": "display_data"
    }
   ],
   "source": [
    "# histograms\n",
    "dataset.hist()\n",
    "plt.show()"
   ]
  },
  {
   "cell_type": "markdown",
   "metadata": {},
   "source": [
    "scatter plot matrix\n",
    "This method helps just to figure out the important features which account the most for the classification in our model.\n",
    "In This method we will get seperate graph for different combinations."
   ]
  },
  {
   "cell_type": "code",
   "execution_count": 6,
   "metadata": {},
   "outputs": [
    {
     "data": {
      "image/png": "[encoded data removed]",
      "text/plain": [
       "<Figure size 432x288 with 1 Axes>"
      ]
     },
     "metadata": {
      "needs_background": "light"
     },
     "output_type": "display_data"
    },
    {
     "data": {
      "image/png": "[encoded data removed]",
      "text/plain": [
       "<Figure size 432x288 with 1 Axes>"
      ]
     },
     "metadata": {
      "needs_background": "light"
     },
     "output_type": "display_data"
    },
    {
     "data": {
      "image/png": "[encoded data removed]",
      "text/plain": [
       "<Figure size 432x288 with 1 Axes>"
      ]
     },
     "metadata": {
      "needs_background": "light"
     },
     "output_type": "display_data"
    },
    {
     "data": {
      "image/png": "[encoded data removed]",
      "text/plain": [
       "<Figure size 432x288 with 1 Axes>"
      ]
     },
     "metadata": {
      "needs_background": "light"
     },
     "output_type": "display_data"
    },
    {
     "data": {
      "image/png": "[encoded data removed]",
      "text/plain": [
       "<Figure size 432x288 with 1 Axes>"
      ]
     },
     "metadata": {
      "needs_background": "light"
     },
     "output_type": "display_data"
    },
    {
     "data": {
      "image/png": "[encoded data removed]",
      "text/plain": [
       "<Figure size 432x288 with 1 Axes>"
      ]
     },
     "metadata": {
      "needs_background": "light"
     },
     "output_type": "display_data"
    },
    {
     "data": {
      "image/png": "[encoded data removed]",
      "text/plain": [
       "<Figure size 432x288 with 1 Axes>"
      ]
     },
     "metadata": {
      "needs_background": "light"
     },
     "output_type": "display_data"
    },
    {
     "data": {
      "image/png": "[encoded data removed]",
      "text/plain": [
       "<Figure size 432x288 with 1 Axes>"
      ]
     },
     "metadata": {
      "needs_background": "light"
     },
     "output_type": "display_data"
    },
    {
     "data": {
      "image/png": "[encoded data removed]",
      "text/plain": [
       "<Figure size 432x288 with 1 Axes>"
      ]
     },
     "metadata": {
      "needs_background": "light"
     },
     "output_type": "display_data"
    },
    {
     "data": {
      "image/png": "[encoded data removed]",
      "text/plain": [
       "<Figure size 432x288 with 1 Axes>"
      ]
     },
     "metadata": {
      "needs_background": "light"
     },
     "output_type": "display_data"
    },
    {
     "data": {
      "image/png": "[encoded data removed]",
      "text/plain": [
       "<Figure size 432x288 with 1 Axes>"
      ]
     },
     "metadata": {
      "needs_background": "light"
     },
     "output_type": "display_data"
    },
    {
     "data": {
      "image/png": "[encoded data removed]",
      "text/plain": [
       "<Figure size 432x288 with 1 Axes>"
      ]
     },
     "metadata": {
      "needs_background": "light"
     },
     "output_type": "display_data"
    },
    {
     "data": {
      "image/png": "[encoded data removed]",
      "text/plain": [
       "<Figure size 432x288 with 1 Axes>"
      ]
     },
     "metadata": {
      "needs_background": "light"
     },
     "output_type": "display_data"
    },
    {
     "data": {
      "image/png": "[encoded data removed]",
      "text/plain": [
       "<Figure size 432x288 with 1 Axes>"
      ]
     },
     "metadata": {
      "needs_background": "light"
     },
     "output_type": "display_data"
    },
    {
     "data": {
      "image/png": "[encoded data removed]",
      "text/plain": [
       "<Figure size 432x288 with 1 Axes>"
      ]
     },
     "metadata": {
      "needs_background": "light"
     },
     "output_type": "display_data"
    },
    {
     "data": {
      "image/png": "[encoded data removed]",
      "text/plain": [
       "<Figure size 432x288 with 1 Axes>"
      ]
     },
     "metadata": {
      "needs_background": "light"
     },
     "output_type": "display_data"
    }
   ],
   "source": [
    "feature_name = column_names[:-1]\n",
    "l = len(feature_name)\n",
    "for i in range(l) :\n",
    "    for j in range(l) :\n",
    "        if i == j :\n",
    "            dataset[feature_name[i]].hist()\n",
    "        else :\n",
    "            plt.scatter(dataset[feature_name[j]],dataset[feature_name[i]], c= 'blue')\n",
    "        plt.xlabel(feature_name[j])\n",
    "        plt.ylabel(feature_name[i])\n",
    "        plt.show()\n",
    "plt.show()"
   ]
  },
  {
   "cell_type": "markdown",
   "metadata": {},
   "source": [
    "to view the correlation to see the correlation between each feature.It is similar to the previous method \n",
    "but it gives you the correlation coefficient +ve for positive relation -ve for -ve relation and 0 for \n",
    "no relation by visualizing these coefficient we can elemenate those feature which has loosely related"
   ]
  },
  {
   "cell_type": "code",
   "execution_count": 7,
   "metadata": {},
   "outputs": [
    {
     "data": {
      "image/png": "[encoded data removed]",
      "text/plain": [
       "<Figure size 288x288 with 2 Axes>"
      ]
     },
     "metadata": {
      "needs_background": "light"
     },
     "output_type": "display_data"
    }
   ],
   "source": [
    "corr = dataset.corr()\n",
    "plt.matshow(corr)\n",
    "plt.xticks(range(dataset.shape[1]), dataset.columns, fontsize=14, rotation=45)\n",
    "plt.yticks(range(dataset.shape[1]), dataset.columns, fontsize=14)\n",
    "cb = plt.colorbar()\n",
    "cb.ax.tick_params(labelsize=14)\n",
    "plt.show()\n",
    "# this time we will keep all the feature"
   ]
  },
  {
   "cell_type": "markdown",
   "metadata": {},
   "source": [
    "Split-out validation dataset"
   ]
  },
  {
   "cell_type": "code",
   "execution_count": 8,
   "metadata": {},
   "outputs": [],
   "source": [
    "array = dataset.values\n",
    "X = array[:,0:4]\n",
    "Y = array[:,4]\n",
    "test_size = 0.20\n",
    "seed = 7\n",
    "X_train, X_test, Y_train, Y_test = model_selection.train_test_split(X, Y, test_size=test_size, random_state=seed)"
   ]
  },
  {
   "cell_type": "markdown",
   "metadata": {},
   "source": [
    "create generic model object which store all the Information of related model"
   ]
  },
  {
   "cell_type": "code",
   "execution_count": 9,
   "metadata": {},
   "outputs": [],
   "source": [
    "class ModelObject :\n",
    "    def __init__(self, name) :\n",
    "        self._name = name\n",
    "        self._cross_validation_score = None\n",
    "        self._cross_validation_score_mean = None\n",
    "        self._cross_validation_score_std = None\n",
    "        self._model = None\n",
    "    @property\n",
    "    def name(self) :\n",
    "        return self._name\n",
    "    @property\n",
    "    def cross_validation_score(self) :\n",
    "        return self._cross_validation_score\n",
    "    @cross_validation_score.setter\n",
    "    def cross_validation_score(self, value) :\n",
    "        try :\n",
    "            self._cross_validation_score = value\n",
    "            self._cross_validation_score_mean = value.mean()\n",
    "            self._cross_validation_score_std = value.std()\n",
    "        except Exception as e:\n",
    "            raise Exception('value object is not in format',e)\n",
    "    @property\n",
    "    def cross_validation_mean(self) :\n",
    "        return self._cross_validation_score_mean\n",
    "    @property\n",
    "    def cross_validation_std(self) :\n",
    "        return self._cross_validation_score_std\n",
    "    @property\n",
    "    def model(self) :\n",
    "        return self._model\n",
    "    @model.setter\n",
    "    def model(self, value) :\n",
    "        self._model = value\n",
    "        self._cross_validation_score = None\n",
    "        self._cross_validation_score_mean = None\n",
    "        self._cross_validation_score_std = None\n",
    "    def __str__(self) :\n",
    "        res = '\\n'\n",
    "        res += 'Model Name :- ' + self._name + '\\n'\n",
    "        res += 'cross validation score :- ' + str(self._cross_validation_score) + '\\n'\n",
    "        res += 'cross validation mean :- ' + str(self._cross_validation_score_mean) + '\\n'\n",
    "        res += 'cross validation standerd deviation :- ' + str(self._cross_validation_score_std) + '\\n'\n",
    "        if self._model != None :\n",
    "            res += 'Model Parameter ' + str(self._model.get_params) + '\\n'\n",
    "        else :\n",
    "            res += '\\n'\n",
    "        return res"
   ]
  },
  {
   "cell_type": "markdown",
   "metadata": {},
   "source": [
    "# Train with different different model to check which model perform better"
   ]
  },
  {
   "cell_type": "markdown",
   "metadata": {},
   "source": [
    "## 1. LogisticRegression"
   ]
  },
  {
   "cell_type": "markdown",
   "metadata": {},
   "source": [
    "we dont need to normalize the data In case of logistic regression, once a value crosses a threshold, it saturates. \n",
    "There is no additional information to be gained by having a much\n",
    "larger value than the threshold (or much smaller value).\n",
    "This smoothing is done by the exponential function in logistic regression.\n",
    "Consequently, scales of inputs do not matter much."
   ]
  },
  {
   "cell_type": "code",
   "execution_count": 10,
   "metadata": {},
   "outputs": [
    {
     "name": "stdout",
     "output_type": "stream",
     "text": [
      "0 1.0023052380778996\n",
      "lambda 0.9977000638225534--validation mean 0.9833333333333332\n",
      "1 1.0836308385723221\n",
      "lambda 0.9228234970845742--validation mean 0.9833333333333332\n",
      "2 1.1715550809220558\n",
      "lambda 0.8535663549109139--validation mean 0.9833333333333332\n",
      "3 1.266613369404105\n",
      "lambda 0.7895069041237605--validation mean 0.9833333333333332\n",
      "4 1.3693845502258168\n",
      "lambda 0.730255062272388--validation mean 0.9916666666666666\n",
      "5 1.4804944363404138\n",
      "lambda 0.6754500222721995--validation mean 0.9916666666666666\n",
      "6 1.6006196182609715\n",
      "lambda 0.6247580553126495--validation mean 0.9916666666666666\n",
      "7 1.7304915840783446\n",
      "lambda 0.5778704786551143--validation mean 0.9916666666666666\n",
      "8 1.8709011737713979\n",
      "lambda 0.5345017759458567--validation mean 0.9916666666666666\n",
      "9 2.022703394933544\n",
      "lambda 0.4943878585979508--validation mean 0.9916666666666666\n",
      "10 2.186822629240382\n",
      "lambda 0.4572844576550598--validation mean 0.9916666666666666\n",
      "11 2.364258261362603\n",
      "lambda 0.42296563634451073--validation mean 0.9916666666666666\n",
      "12 2.5560907646007727\n",
      "lambda 0.3912224142620329--validation mean 0.9916666666666666\n",
      "13 2.7634882802997276\n",
      "lambda 0.3618614948102983--validation mean 0.9916666666666666\n",
      "14 2.987713731107166\n",
      "lambda 0.3347040881421484--validation mean 0.9916666666666666\n",
      "15 3.230132511391778\n",
      "lambda 0.3095848224409613--validation mean 0.9916666666666666\n",
      "16 3.492220801650795\n",
      "lambda 0.28635073690852925--validation mean 0.9916666666666666\n",
      "17 3.7755745575365762\n",
      "lambda 0.2648603503283652--validation mean 0.9916666666666666\n",
      "18 4.081919228239834\n",
      "lambda 0.24498279953256458--validation mean 0.9833333333333332\n",
      "19 4.413120263408459\n",
      "lambda 0.2265970425260184--validation mean 0.9833333333333332\n",
      "20 4.771194472582554\n",
      "lambda 0.20959112141549738--validation mean 0.9833333333333332\n",
      "21 5.158322306317658\n",
      "lambda 0.19386148065529937--validation mean 0.9833333333333332\n",
      "22 5.57686113378057\n",
      "lambda 0.17931233645799913--validation mean 0.9833333333333332\n",
      "23 6.029359597670132\n",
      "lambda 0.16585509353040087--validation mean 0.9833333333333332\n",
      "24 6.51857313387558\n",
      "lambda 0.15340780558297668--validation mean 0.975\n",
      "25 7.04748075037757\n",
      "lambda 0.14189467632762598--validation mean 0.975\n",
      "26 7.619303167565013\n",
      "lambda 0.1312455979251422--validation mean 0.9666666666666666\n",
      "27 8.237522430431044\n",
      "lambda 0.12139572407181574--validation mean 0.9666666666666666\n",
      "28 8.905903112074267\n",
      "lambda 0.11228507512553557--validation mean 0.9666666666666666\n",
      "29 9.628515237621489\n",
      "lambda 0.10385817286685084--validation mean 0.9666666666666666\n",
      "30 10.409759068164458\n",
      "lambda 0.09606370267091388--validation mean 0.9666666666666666\n",
      "31 11.254391895629482\n",
      "lambda 0.08885420103313968--validation mean 0.9666666666666666\n",
      "32 12.167557011744032\n",
      "lambda 0.08218576654580766--validation mean 0.9583333333333333\n",
      "33 13.154815027503593\n",
      "lambda 0.07601779256562996--validation mean 0.9583333333333333\n",
      "34 14.222177733854771\n",
      "lambda 0.07031271994439917--validation mean 0.9583333333333333\n",
      "35 15.37614470978536\n",
      "lambda 0.06503580831699647--validation mean 0.95\n",
      "36 16.623742900742077\n",
      "lambda 0.060154924554046155--validation mean 0.95\n",
      "37 17.97256940838393\n",
      "lambda 0.0556403470910239--validation mean 0.9416666666666667\n",
      "38 19.4308377522344\n",
      "lambda 0.05146458494230428--validation mean 0.9416666666666667\n",
      "39 21.007427884937407\n",
      "lambda 0.047602210298054275--validation mean 0.9416666666666667\n",
      "40 22.711940265678887\n",
      "lambda 0.04402970368459221--validation mean 0.9416666666666667\n",
      "41 24.55475432104775\n",
      "lambda 0.040725310745333906--validation mean 0.9333333333333332\n",
      "42 26.5470916493268\n",
      "lambda 0.03766890977021051--validation mean 0.9333333333333332\n",
      "43 28.70108435308855\n",
      "lambda 0.03484188916689446--validation mean 0.9333333333333332\n",
      "44 31.0298489161992\n",
      "lambda 0.03222703412770882--validation mean 0.9333333333333332\n",
      "45 33.54756607509623\n",
      "lambda 0.029808421802091395--validation mean 0.9333333333333332\n",
      "46 36.269567170706075\n",
      "lambda 0.02757132433627916--validation mean 0.925\n",
      "47 39.21242750683176\n",
      "lambda 0.025502119189784303--validation mean 0.925\n",
      "48 42.39406728350551\n",
      "lambda 0.023588206182544685--validation mean 0.925\n",
      "49 45.83386071992781\n",
      "lambda 0.02181793076761732--validation mean 0.925\n",
      "50 49.55275403148421\n",
      "lambda 0.020180513062192918--validation mean 0.9166666666666666\n",
      "51 53.57339297924723\n",
      "lambda 0.01866598220477413--validation mean 0.9166666666666666\n",
      "52 57.920260768660434\n",
      "lambda 0.017265115638793554--validation mean 0.9083333333333334\n",
      "53 62.61982713712308\n",
      "lambda 0.01596938295294602--validation mean 0.9\n",
      "54 67.700709538326\n",
      "lambda 0.014770893936257651--validation mean 0.8916666666666666\n",
      "55 73.19384740485175\n",
      "lambda 0.013662350531579156--validation mean 0.8916666666666666\n",
      "56 79.13269055019113\n",
      "lambda 0.012637002394929748--validation mean 0.8916666666666666\n",
      "57 85.55340285742689\n",
      "lambda 0.011688605790075713--validation mean 0.8833333333333332\n",
      "58 92.49508249492342\n",
      "lambda 0.010811385568036926--validation mean 0.8833333333333332\n",
      "59 100.0\n",
      "lambda 0.01--validation mean 0.875\n"
     ]
    }
   ],
   "source": [
    "# c is 1\\lambda = 1\n",
    "# solver option  {‘newton-cg’, ‘lbfgs’, ‘liblinear’, ‘sag’, ‘saga’}\n",
    "# multi_class : str, {‘ovr’, ‘multinomial’, ‘auto’}\n",
    "#update sklearn and add on one more parameter l1_ratio=None\n",
    "def get_optimal_modellr(lambda_value) :\n",
    "    lambda_val = lambda_value\n",
    "    #lambda_val = 0.21\n",
    "    iter_max = 5000\n",
    "    seed_k_fold = 7\n",
    "    no_of_split = 10\n",
    "    scoring = 'accuracy'\n",
    "    lr = ModelObject('LogisticRegression')\n",
    "    kfold = model_selection.KFold(n_splits= no_of_split, random_state=seed_k_fold)\n",
    "    lr.model = LogisticRegression(penalty='l2',dual=False,tol=1e-4,\n",
    "                                  C=(1/lambda_val), fit_intercept = True,\n",
    "                                  intercept_scaling=1,class_weight=None,\n",
    "                                  random_state=None,solver='saga',max_iter=iter_max,\n",
    "                                  multi_class= 'multinomial',verbose=0,warm_start=False,\n",
    "                                  n_jobs=None)\n",
    "    cv_results = model_selection.cross_val_score(lr.model, X_train, Y_train,cv=kfold, scoring=scoring)\n",
    "    lr.cross_validation_score = cv_results\n",
    "    return lr\n",
    "# finding the best value of lambda by cross validation\n",
    "range_lambda  = np.logspace(0.001, 2, num=60)\n",
    "index = 0\n",
    "for  i in range_lambda :\n",
    "    print(index, i)\n",
    "    temp = get_optimal_modellr(i)\n",
    "    print('lambda '+str(1/i) + '--validation mean '+str(temp.cross_validation_mean))\n",
    "    #temp.model.fit(X_train,Y_train)\n",
    "    #predicted = temp.model.predict(X_test[:,:])\n",
    "    #print(accuracy_score(Y_test, predicted))\n",
    "    index += 1"
   ]
  },
  {
   "cell_type": "code",
   "execution_count": 11,
   "metadata": {},
   "outputs": [
    {
     "name": "stdout",
     "output_type": "stream",
     "text": [
      "0.8666666666666667\n",
      "['Iris-setosa' 'Iris-versicolor' 'Iris-virginica']\n",
      "[[ 7  0  0]\n",
      " [ 0 10  2]\n",
      " [ 0  2  9]]\n",
      "Accuracy  0.8666666666666667\n"
     ]
    }
   ],
   "source": [
    "# best value of accuracy found between lambda = 1.3693845502258168 and lambda = 3.492220801650795\n",
    "range_lambda[4:18]\n",
    "# selecting lambda = 1.4804944363404138\n",
    "lambda_val = 3.492220801650795\n",
    "lr = get_optimal_modellr(lambda_val)\n",
    "lr.model.fit(X_train,Y_train)\n",
    "predicted = lr.model.predict(X_test[:,:])\n",
    "print(sum(Y_test==predicted)/len(Y_test))\n",
    "print(dataset['class'].unique())\n",
    "print(confusion_matrix(Y_test, predicted,labels=dataset['class'].unique()))\n",
    "print('Accuracy ',accuracy_score(Y_test, predicted))"
   ]
  },
  {
   "cell_type": "markdown",
   "metadata": {},
   "source": [
    "## 2.KNeighborsClassifier"
   ]
  },
  {
   "cell_type": "code",
   "execution_count": 12,
   "metadata": {
    "scrolled": true
   },
   "outputs": [
    {
     "name": "stdout",
     "output_type": "stream",
     "text": [
      "k 5--validation mean 0.9666666666666666\n",
      "k 6--validation mean 0.9666666666666666\n",
      "k 7--validation mean 0.9749999999999999\n",
      "k 8--validation mean 0.9749999999999999\n",
      "k 9--validation mean 0.9749999999999999\n",
      "k 10--validation mean 0.9749999999999999\n",
      "k 11--validation mean 0.9749999999999999\n",
      "k 12--validation mean 0.9833333333333332\n",
      "k 13--validation mean 0.9749999999999999\n",
      "k 14--validation mean 0.975\n",
      "k 15--validation mean 0.975\n",
      "k 16--validation mean 0.975\n",
      "k 17--validation mean 0.975\n",
      "k 18--validation mean 0.975\n",
      "k 19--validation mean 0.9666666666666666\n",
      "k 20--validation mean 0.975\n",
      "k 21--validation mean 0.9583333333333333\n",
      "k 22--validation mean 0.9666666666666666\n",
      "k 23--validation mean 0.9583333333333334\n",
      "k 24--validation mean 0.9666666666666666\n",
      "k 25--validation mean 0.9416666666666667\n",
      "k 26--validation mean 0.95\n",
      "k 27--validation mean 0.9416666666666667\n",
      "k 28--validation mean 0.9416666666666667\n",
      "k 29--validation mean 0.9416666666666667\n",
      "k 30--validation mean 0.9333333333333332\n"
     ]
    }
   ],
   "source": [
    "def get_optimal_modelKNN(k_val) :\n",
    "    k=k_val\n",
    "    seed_k_fold = 7\n",
    "    no_of_split = 10\n",
    "    scoring = 'accuracy'\n",
    "    algo='brute' #'brute', 'ball_tree', 'kd_tree' 'auto'\n",
    "    #leaf size = 30 used in ball or kd trees to speed up the construction query\n",
    "    # metric string or callable default is minkowski\n",
    "    # metric_params additional kwargs provided to callable metric\n",
    "    knn = ModelObject('KNeighborsClassifier')\n",
    "    kfold = model_selection.KFold(n_splits= no_of_split, random_state=seed_k_fold)\n",
    "    knn.model = KNeighborsClassifier(n_neighbors=k, weights='uniform', algorithm=algo,\n",
    "                     leaf_size=30, p=2, metric='minkowski', metric_params=None,\n",
    "                     n_jobs=None)\n",
    "    # scale x \n",
    "    cv_results = model_selection.cross_val_score(knn.model, scale(X_train), Y_train,cv=kfold, scoring=scoring)\n",
    "    knn.cross_validation_score = cv_results\n",
    "    return knn\n",
    "index = 0\n",
    "for  i in range(5,31) :\n",
    "    # print(index, i)\n",
    "    temp = get_optimal_modelKNN(i)\n",
    "    print('k '+str(i) + '--validation mean '+str(temp.cross_validation_mean))\n",
    "    temp.model.fit(X_train,Y_train)\n",
    "    #predicted = temp.model.predict(X_test[:,:])\n",
    "    #print('Accuracy ',accuracy_score(Y_test, predicted))\n",
    "    index += 1"
   ]
  },
  {
   "cell_type": "markdown",
   "metadata": {},
   "source": [
    "by cross validation putting k=14 for better accuracy"
   ]
  },
  {
   "cell_type": "code",
   "execution_count": 13,
   "metadata": {},
   "outputs": [
    {
     "name": "stdout",
     "output_type": "stream",
     "text": [
      "['Iris-setosa' 'Iris-versicolor' 'Iris-virginica']\n",
      "[[ 7  0  0]\n",
      " [ 0 11  1]\n",
      " [ 0  1 10]]\n",
      "0.9333333333333333\n"
     ]
    }
   ],
   "source": [
    "k=14\n",
    "knn = get_optimal_modelKNN(k)\n",
    "knn.model.fit(X_train,Y_train)\n",
    "predicted = knn.model.predict(X_test[:,:])\n",
    "print(dataset['class'].unique())\n",
    "print(confusion_matrix(Y_test, predicted,labels=dataset['class'].unique()))\n",
    "print(accuracy_score(Y_test, predicted))"
   ]
  },
  {
   "cell_type": "markdown",
   "metadata": {},
   "source": [
    "## 3.DecisionTreeClassifier"
   ]
  },
  {
   "cell_type": "code",
   "execution_count": 14,
   "metadata": {},
   "outputs": [],
   "source": [
    "def get_optimal_modelDecisionTree(min_sample_leaf=1,min_samples_split=2) :\n",
    "    min_sam_lf = min_sample_leaf\n",
    "    seed_k_fold = 7\n",
    "    no_of_split = 10\n",
    "    scoring = 'accuracy'\n",
    "    criterian = 'gini' # Supported criteria are “gini” for the Gini impurity and “entropy” for the information gain.\n",
    "    dt = ModelObject('DecisionTreeClassifier')\n",
    "    kfold = model_selection.KFold(n_splits= no_of_split, random_state=seed_k_fold)\n",
    "    dt.model = DecisionTreeClassifier(criterion=criterian, splitter='best', max_depth=None,\n",
    "                                       min_samples_split=min_samples_split,min_samples_leaf=min_sam_lf,\n",
    "                                       min_weight_fraction_leaf=0.0, max_features=None,\n",
    "                                       random_state=None, max_leaf_nodes=None, min_impurity_decrease=0.0,\n",
    "                                       min_impurity_split=None, class_weight=None, presort=False)\n",
    "    cv_results = model_selection.cross_val_score(dt.model, X_train, Y_train,cv=kfold, scoring=scoring)\n",
    "    dt.cross_validation_score = cv_results\n",
    "    return dt"
   ]
  },
  {
   "cell_type": "code",
   "execution_count": 15,
   "metadata": {},
   "outputs": [
    {
     "name": "stdout",
     "output_type": "stream",
     "text": [
      "validation mean 0.975\n",
      "['Iris-setosa' 'Iris-versicolor' 'Iris-virginica']\n",
      "[[ 7  0  0]\n",
      " [ 0 10  2]\n",
      " [ 0  1 10]]\n",
      "0.9\n"
     ]
    }
   ],
   "source": [
    "# building model by brute force we got 2 parameter value 3 and 8\n",
    "dt = get_optimal_modelDecisionTree(min_sample_leaf=3,min_samples_split=8)\n",
    "print('validation mean '+str(dt.cross_validation_mean))\n",
    "dt.model.fit(X_train,Y_train)\n",
    "predicted = dt.model.predict(X_test[:,:])\n",
    "print(dataset['class'].unique())\n",
    "print(confusion_matrix(Y_test, predicted,labels=dataset['class'].unique()))\n",
    "print(accuracy_score(Y_test, predicted))"
   ]
  },
  {
   "cell_type": "markdown",
   "metadata": {},
   "source": [
    "## 4.GaussianNB"
   ]
  },
  {
   "cell_type": "code",
   "execution_count": 16,
   "metadata": {},
   "outputs": [],
   "source": [
    "def get_optimal_modelGaussianNB() :\n",
    "    seed_k_fold = 7\n",
    "    no_of_split = 10\n",
    "    scoring = 'accuracy'\n",
    "    gnb = ModelObject('GaussianNB')\n",
    "    kfold = model_selection.KFold(n_splits= no_of_split, random_state=seed_k_fold)\n",
    "    # var_smoothing :- Portion of the largest variance of all features that is added to variances for calculation stability\n",
    "    gnb.model = GaussianNB(priors=None, var_smoothing=1e-09)\n",
    "    cv_results = model_selection.cross_val_score(gnb.model, X_train, Y_train,cv=kfold, scoring=scoring)\n",
    "    gnb.cross_validation_score = cv_results\n",
    "    return gnb"
   ]
  },
  {
   "cell_type": "markdown",
   "metadata": {},
   "source": [
    "building model with default setting in gaussian NB classifier"
   ]
  },
  {
   "cell_type": "code",
   "execution_count": 17,
   "metadata": {},
   "outputs": [
    {
     "name": "stdout",
     "output_type": "stream",
     "text": [
      "validation mean 0.975\n",
      "['Iris-setosa' 'Iris-versicolor' 'Iris-virginica']\n",
      "[[7 0 0]\n",
      " [0 9 3]\n",
      " [0 2 9]]\n",
      "0.8333333333333334\n"
     ]
    }
   ],
   "source": [
    "gnb = get_optimal_modelGaussianNB()\n",
    "print('validation mean '+str(gnb.cross_validation_mean))\n",
    "gnb.model.fit(X_train,Y_train)\n",
    "predicted = gnb.model.predict(X_test[:,:])\n",
    "print(dataset['class'].unique())\n",
    "print(confusion_matrix(Y_test, predicted,labels=dataset['class'].unique()))\n",
    "print(accuracy_score(Y_test, predicted))"
   ]
  },
  {
   "cell_type": "markdown",
   "metadata": {},
   "source": [
    "## 5.support vector classifier"
   ]
  },
  {
   "cell_type": "code",
   "execution_count": 18,
   "metadata": {},
   "outputs": [],
   "source": [
    "def get_optimal_modelSVC(c=1.0) :\n",
    "    seed_k_fold = 7\n",
    "    no_of_split = 10\n",
    "    scoring = 'accuracy'\n",
    "    # c is Penalty parameter  of the error term\n",
    "    kernel_val = 'rbf' #‘linear’, ‘poly’, ‘rbf’, ‘sigmoid’\n",
    "    deg = 3 # degree of polynomial kernel function ignore if other kernel\n",
    "    decision_shape = 'ovo' # ovo one vs one ovr one vs other\n",
    "    # original one-vs-one (‘ovo’)  classifier used is (n_class*n_class-1)/2\n",
    "    # if one-vs-rest (‘ovr’) classifier used is (n_class) are used \n",
    "    gamma = 'auto' #Kernel coefficient for ‘rbf’, ‘poly’ and ‘sigmoid’.\n",
    "    #coef0 Independent term in kernel function. It is only significant in ‘poly’ and ‘sigmoid’.\n",
    "    svc = ModelObject('support vector classifier')\n",
    "    kfold = model_selection.KFold(n_splits= no_of_split, random_state=seed_k_fold)\n",
    "    svc.model = SVC(C=c, kernel=kernel_val, degree=deg, gamma=gamma, coef0=0.0,\n",
    "                    shrinking=True, probability=False, tol=0.001, cache_size=200,\n",
    "                    class_weight=None, verbose=False, max_iter=-1, decision_function_shape=decision_shape,\n",
    "                    random_state=None)\n",
    "    cv_results = model_selection.cross_val_score(svc.model, scale(X_train), Y_train,cv=kfold, scoring=scoring)\n",
    "    svc.cross_validation_score = cv_results\n",
    "    return svc"
   ]
  },
  {
   "cell_type": "markdown",
   "metadata": {},
   "source": [
    " building model with default setting in support vector classifier"
   ]
  },
  {
   "cell_type": "code",
   "execution_count": 19,
   "metadata": {},
   "outputs": [
    {
     "name": "stdout",
     "output_type": "stream",
     "text": [
      "validation mean 0.975\n",
      "['Iris-setosa' 'Iris-versicolor' 'Iris-virginica']\n",
      "[[ 7  0  0]\n",
      " [ 0 10  2]\n",
      " [ 0  0 11]]\n",
      "0.9333333333333333\n"
     ]
    }
   ],
   "source": [
    "svc = get_optimal_modelSVC()\n",
    "print('validation mean '+str(svc.cross_validation_mean))\n",
    "svc.model.fit(X_train, Y_train)\n",
    "print(dataset['class'].unique())\n",
    "predicted = svc.model.predict(X_test[:, :])\n",
    "print(confusion_matrix(Y_test, predicted, labels=dataset['class'].unique()))\n",
    "print(accuracy_score(Y_test, predicted))"
   ]
  },
  {
   "cell_type": "markdown",
   "metadata": {},
   "source": [
    "## 6.Linear discriminant analysis"
   ]
  },
  {
   "cell_type": "code",
   "execution_count": 20,
   "metadata": {},
   "outputs": [],
   "source": [
    "def get_optimal_modelLDA() :\n",
    "    seed_k_fold = 7\n",
    "    no_of_split = 10\n",
    "    scoring = 'accuracy'\n",
    "    solver = 'svd' #svd lsqr eigen\n",
    "    shrink = None# None,  0.0< val<= 1.0'\n",
    "    #n_component = min(n_class-1, n_feature)\n",
    "    lda = ModelObject('linear discriminant analysis')\n",
    "    kfold = model_selection.KFold(n_splits= no_of_split, random_state=seed_k_fold)\n",
    "    lda.model = LinearDiscriminantAnalysis(solver='svd', shrinkage=shrink, priors=None, n_components=None,\n",
    "                                           store_covariance=True, tol=0.0001)\n",
    "    cv_results = model_selection.cross_val_score(lda.model, X_train, Y_train,cv=kfold, scoring=scoring)\n",
    "    lda.cross_validation_score = cv_results\n",
    "    return lda"
   ]
  },
  {
   "cell_type": "code",
   "execution_count": 21,
   "metadata": {},
   "outputs": [
    {
     "name": "stdout",
     "output_type": "stream",
     "text": [
      "validation mean 0.975\n",
      "['Iris-setosa' 'Iris-versicolor' 'Iris-virginica']\n",
      "[[ 7  0  0]\n",
      " [ 0 11  1]\n",
      " [ 0  0 11]]\n",
      "0.9666666666666667\n"
     ]
    }
   ],
   "source": [
    "# building model with default setting in linear discriminant analysis\n",
    "lda = get_optimal_modelLDA()\n",
    "print('validation mean '+str(lda.cross_validation_mean))\n",
    "lda.model.fit(X_train,Y_train)\n",
    "predicted = lda.model.predict(X_test[:,:])\n",
    "print(dataset['class'].unique())\n",
    "print(confusion_matrix(Y_test, predicted,labels=dataset['class'].unique()))\n",
    "print(accuracy_score(Y_test, predicted))"
   ]
  },
  {
   "cell_type": "markdown",
   "metadata": {},
   "source": [
    "## Ensemble Approach"
   ]
  },
  {
   "cell_type": "markdown",
   "metadata": {},
   "source": [
    "### 1. Random Forest Classifier"
   ]
  },
  {
   "cell_type": "code",
   "execution_count": 33,
   "metadata": {},
   "outputs": [],
   "source": [
    "def get_optimal_model_random_forest_classifier(no_of_trees, max_depth, min_samples_lf, min_samples_splt, verbose = True) :\n",
    "    #no_of_trees, max_depth, min_samples_lf, min_samples_splt  = 10, None, 2, 2\n",
    "    criteria = 'gini'\n",
    "    rf =  RandomForestClassifier(n_estimators=no_of_trees, criterion=criteria, max_depth=max_depth,\n",
    "                                  min_samples_split=min_samples_splt, min_samples_leaf=min_samples_lf,\n",
    "                                  min_weight_fraction_leaf=0.0, max_features=None, max_leaf_nodes=None,\n",
    "                                  min_impurity_decrease=0.0, min_impurity_split=None, bootstrap=True,\n",
    "                                  oob_score=False, n_jobs=None, random_state=None, verbose=0,\n",
    "                                  warm_start=False, class_weight=None)\n",
    "    if verbose :\n",
    "        print('no_of_trees {0} max depth {1} , minimum sample leaf - {2} minimum sample split {3}'.format(str(no_of_trees),\n",
    "                                                                                                        str(max_depth), \n",
    "                                                                                                        str(min_samples_lf),\n",
    "                                                                                                        str(min_samples_splt)))\n",
    "    rf_class = ModelObject('Random Forest Classifier')\n",
    "    rf_class.model = rf\n",
    "    return rf_class"
   ]
  },
  {
   "cell_type": "code",
   "execution_count": 34,
   "metadata": {},
   "outputs": [
    {
     "name": "stdout",
     "output_type": "stream",
     "text": [
      "no_of_trees 100 max depth None , minimum sample leaf - 1 minimum sample split 2\n",
      "['Iris-setosa' 'Iris-versicolor' 'Iris-virginica']\n",
      "[[ 7  0  0]\n",
      " [ 0 10  2]\n",
      " [ 0  1 10]]\n",
      "0.9\n"
     ]
    }
   ],
   "source": [
    "rf = get_optimal_model_random_forest_classifier(no_of_trees=100, max_depth=None, min_samples_lf=1, min_samples_splt=2)\n",
    "rf.model.fit(X_train,Y_train)\n",
    "predicted = rf.model.predict(X_test[:,:])\n",
    "print(dataset['class'].unique())\n",
    "print(confusion_matrix(Y_test, predicted,labels=dataset['class'].unique()))\n",
    "print(accuracy_score(Y_test, predicted))"
   ]
  },
  {
   "cell_type": "markdown",
   "metadata": {},
   "source": [
    "### 2.Extra Tree Classifier"
   ]
  },
  {
   "cell_type": "code",
   "execution_count": 65,
   "metadata": {},
   "outputs": [],
   "source": [
    "def get_optimal_model_extra_tree_classifier(no_of_trees, max_depth, min_samples_lf, min_samples_splt, verbose = True) :\n",
    "    #no_of_trees, max_depth, min_samples_lf, min_samples_splt  = 10, None, 2, 2\n",
    "    criteria = 'gini'\n",
    "    et =  ExtraTreesClassifier(n_estimators=no_of_trees, criterion=criteria, max_depth=max_depth,\n",
    "                                  min_samples_split=min_samples_splt, min_samples_leaf=min_samples_lf,\n",
    "                                  min_weight_fraction_leaf=0.0, max_features=None, max_leaf_nodes=None,\n",
    "                                  min_impurity_decrease=0.0, min_impurity_split=None, bootstrap=True,\n",
    "                                  oob_score=False, n_jobs=None, random_state=None, verbose=0,\n",
    "                                  warm_start=False, class_weight=None)\n",
    "    if verbose :\n",
    "        print('no_of_trees {0} max depth {1} , minimum sample leaf - {2} minimum sample split {3}'.format(str(no_of_trees),\n",
    "                                                                                                        str(max_depth), \n",
    "                                                                                                        str(min_samples_lf),\n",
    "                                                                                                        str(min_samples_splt)))\n",
    "    et_class = ModelObject('Extra Tree Classifier')\n",
    "    et_class.model = et\n",
    "    return et_class"
   ]
  },
  {
   "cell_type": "code",
   "execution_count": 66,
   "metadata": {},
   "outputs": [
    {
     "name": "stdout",
     "output_type": "stream",
     "text": [
      "no_of_trees 100 max depth None , minimum sample leaf - 1 minimum sample split 2\n",
      "['Iris-setosa' 'Iris-versicolor' 'Iris-virginica']\n",
      "[[ 7  0  0]\n",
      " [ 0 10  2]\n",
      " [ 0  2  9]]\n",
      "0.8666666666666667\n"
     ]
    }
   ],
   "source": [
    "et = get_optimal_model_extra_tree_classifier(no_of_trees=100, max_depth=None, min_samples_lf=1, min_samples_splt=2)\n",
    "et.model.fit(X_train,Y_train)\n",
    "predicted = et.model.predict(X_test[:,:])\n",
    "print(dataset['class'].unique())\n",
    "print(confusion_matrix(Y_test, predicted,labels=dataset['class'].unique()))\n",
    "print(accuracy_score(Y_test, predicted))"
   ]
  },
  {
   "cell_type": "markdown",
   "metadata": {},
   "source": [
    "### 3. ADA Boost"
   ]
  },
  {
   "cell_type": "code",
   "execution_count": 28,
   "metadata": {},
   "outputs": [],
   "source": [
    "def get_optimal_ADA_boost(no_est=50, verbose = True) :\n",
    "    algo = 'SAMME.R' #'SAMME', 'SAMME.R'\n",
    "    base_est = None  # for decision tree max_depth = 1\n",
    "    ada = AdaBoostClassifier(base_estimator=None, n_estimators=no_est, learning_rate=1.0,\n",
    "                             algorithm=algo, random_state=0)\n",
    "    if verbose :\n",
    "        print('base estimator {0} number of estiator {1}'.format(str(base_est),str(no_est)))\n",
    "    ada_class = ModelObject('ADA boost Classifier')\n",
    "    ada_class.model = ada\n",
    "    return ada_class"
   ]
  },
  {
   "cell_type": "code",
   "execution_count": 41,
   "metadata": {},
   "outputs": [
    {
     "name": "stdout",
     "output_type": "stream",
     "text": [
      "base estimator None number of estiator 100\n",
      "['Iris-setosa' 'Iris-versicolor' 'Iris-virginica']\n",
      "[[ 7  0  0]\n",
      " [ 0 10  2]\n",
      " [ 0  0 11]]\n",
      "0.9333333333333333\n"
     ]
    }
   ],
   "source": [
    "ada = get_optimal_ADA_boost(no_est=100)\n",
    "ada.model.fit(X_train,Y_train)\n",
    "predicted = ada.model.predict(X_test[:,:])\n",
    "print(dataset['class'].unique())\n",
    "print(confusion_matrix(Y_test, predicted,labels=dataset['class'].unique()))\n",
    "print(accuracy_score(Y_test, predicted))"
   ]
  },
  {
   "cell_type": "markdown",
   "metadata": {},
   "source": [
    "### 4. Gradient Boost"
   ]
  },
  {
   "cell_type": "code",
   "execution_count": 42,
   "metadata": {},
   "outputs": [],
   "source": [
    "def get_optimal_Gradient_boost(no_est=100, max_depth=3, min_samples_lf=1, min_samples_splt=2, verbose = True) :\n",
    "    algo = 'deviance' # {‘deviance’, ‘exponential’}\n",
    "    #subsample - The fraction of samples to be used for fitting the individual base learners.\n",
    "    # If smaller than 1.0 this results in Stochastic Gradient Boosting\n",
    "    # criterion :- \"friedman_mse, mse, mae\"\n",
    "    base_est = None  # for decision tree max_depth = 1\n",
    "    gb = GradientBoostingClassifier(loss=algo, learning_rate=0.1, n_estimators=no_est, subsample=1.0,\n",
    "                                    criterion='friedman_mse', min_samples_split=min_samples_splt,\n",
    "                                    min_samples_leaf=min_samples_lf, min_weight_fraction_leaf=0.0,\n",
    "                                    max_depth=max_depth, min_impurity_decrease=0.0, min_impurity_split=None,\n",
    "                                    init=None, random_state=0, max_features=None, verbose=0,\n",
    "                                    max_leaf_nodes=None, warm_start=False, presort='auto',\n",
    "                                    validation_fraction=0.1, n_iter_no_change=None, tol=0.0001)\n",
    "    if verbose :\n",
    "        print('base estimator {0} number of estiator {1}'.format(str(base_est),str(no_est)))\n",
    "    gb_class = ModelObject('Gradient boost Classifier')\n",
    "    gb_class.model = gb\n",
    "    return gb_class"
   ]
  },
  {
   "cell_type": "code",
   "execution_count": 51,
   "metadata": {},
   "outputs": [
    {
     "name": "stdout",
     "output_type": "stream",
     "text": [
      "base estimator None number of estiator 100\n",
      "['Iris-setosa' 'Iris-versicolor' 'Iris-virginica']\n",
      "[[ 7  0  0]\n",
      " [ 0 10  2]\n",
      " [ 0  1 10]]\n",
      "0.9\n"
     ]
    }
   ],
   "source": [
    "gb = get_optimal_Gradient_boost(no_est=100, max_depth=4, min_samples_lf=1, min_samples_splt=2, verbose = True)\n",
    "gb.model.fit(X_train,Y_train)\n",
    "predicted = gb.model.predict(X_test[:,:])\n",
    "print(dataset['class'].unique())\n",
    "print(confusion_matrix(Y_test, predicted,labels=dataset['class'].unique()))\n",
    "print(accuracy_score(Y_test, predicted))"
   ]
  },
  {
   "cell_type": "markdown",
   "metadata": {},
   "source": [
    "Put all model and sort according to accuracy and check which model is better"
   ]
  },
  {
   "cell_type": "code",
   "execution_count": 78,
   "metadata": {},
   "outputs": [
    {
     "data": {
      "text/html": [
       "<div>\n",
       "<style scoped>\n",
       "    .dataframe tbody tr th:only-of-type {\n",
       "        vertical-align: middle;\n",
       "    }\n",
       "\n",
       "    .dataframe tbody tr th {\n",
       "        vertical-align: top;\n",
       "    }\n",
       "\n",
       "    .dataframe thead th {\n",
       "        text-align: right;\n",
       "    }\n",
       "</style>\n",
       "<table border=\"1\" class=\"dataframe\">\n",
       "  <thead>\n",
       "    <tr style=\"text-align: right;\">\n",
       "      <th></th>\n",
       "      <th>Model Name</th>\n",
       "      <th>Accuracy</th>\n",
       "    </tr>\n",
       "  </thead>\n",
       "  <tbody>\n",
       "    <tr>\n",
       "      <th>3</th>\n",
       "      <td>GaussianNB</td>\n",
       "      <td>0.833333</td>\n",
       "    </tr>\n",
       "    <tr>\n",
       "      <th>0</th>\n",
       "      <td>LogisticRegression</td>\n",
       "      <td>0.866667</td>\n",
       "    </tr>\n",
       "    <tr>\n",
       "      <th>7</th>\n",
       "      <td>Extra Tree Classifier</td>\n",
       "      <td>0.866667</td>\n",
       "    </tr>\n",
       "    <tr>\n",
       "      <th>2</th>\n",
       "      <td>DecisionTreeClassifier</td>\n",
       "      <td>0.900000</td>\n",
       "    </tr>\n",
       "    <tr>\n",
       "      <th>6</th>\n",
       "      <td>Random Forest Classifier</td>\n",
       "      <td>0.900000</td>\n",
       "    </tr>\n",
       "    <tr>\n",
       "      <th>9</th>\n",
       "      <td>Gradient boost Classifier</td>\n",
       "      <td>0.900000</td>\n",
       "    </tr>\n",
       "    <tr>\n",
       "      <th>1</th>\n",
       "      <td>KNeighborsClassifier</td>\n",
       "      <td>0.933333</td>\n",
       "    </tr>\n",
       "    <tr>\n",
       "      <th>4</th>\n",
       "      <td>support vector classifier</td>\n",
       "      <td>0.933333</td>\n",
       "    </tr>\n",
       "    <tr>\n",
       "      <th>8</th>\n",
       "      <td>ADA boost Classifier</td>\n",
       "      <td>0.933333</td>\n",
       "    </tr>\n",
       "    <tr>\n",
       "      <th>5</th>\n",
       "      <td>linear discriminant analysis</td>\n",
       "      <td>0.966667</td>\n",
       "    </tr>\n",
       "  </tbody>\n",
       "</table>\n",
       "</div>"
      ],
      "text/plain": [
       "                     Model Name  Accuracy\n",
       "3                    GaussianNB  0.833333\n",
       "0            LogisticRegression  0.866667\n",
       "7         Extra Tree Classifier  0.866667\n",
       "2        DecisionTreeClassifier  0.900000\n",
       "6      Random Forest Classifier  0.900000\n",
       "9     Gradient boost Classifier  0.900000\n",
       "1          KNeighborsClassifier  0.933333\n",
       "4     support vector classifier  0.933333\n",
       "8          ADA boost Classifier  0.933333\n",
       "5  linear discriminant analysis  0.966667"
      ]
     },
     "execution_count": 78,
     "metadata": {},
     "output_type": "execute_result"
    }
   ],
   "source": [
    "ls=[lr, knn, dt, gnb, svc, lda, rf, et, ada, gb]\n",
    "name=[]\n",
    "acc = []\n",
    "df = pd.DataFrame()\n",
    "for i in ls :\n",
    "    i.model.fit(X_train,Y_train)\n",
    "    predicted = i.model.predict(X_test[:,:])\n",
    "    df[i.name] = predicted\n",
    "    res = accuracy_score(Y_test, predicted)\n",
    "    name.append(i.name)\n",
    "    acc.append(res)\n",
    "dtf = pd.DataFrame({'Model Name': name, 'Accuracy': acc})\n",
    "dtf.sort_values(by=['Accuracy'])"
   ]
  },
  {
   "cell_type": "markdown",
   "metadata": {},
   "source": [
    "Since Linear discriminant analysis has maximum accuracy so we selected this  model"
   ]
  },
  {
   "cell_type": "code",
   "execution_count": 113,
   "metadata": {},
   "outputs": [
    {
     "data": {
      "text/html": [
       "<div>\n",
       "<style scoped>\n",
       "    .dataframe tbody tr th:only-of-type {\n",
       "        vertical-align: middle;\n",
       "    }\n",
       "\n",
       "    .dataframe tbody tr th {\n",
       "        vertical-align: top;\n",
       "    }\n",
       "\n",
       "    .dataframe thead th {\n",
       "        text-align: right;\n",
       "    }\n",
       "</style>\n",
       "<table border=\"1\" class=\"dataframe\">\n",
       "  <thead>\n",
       "    <tr style=\"text-align: right;\">\n",
       "      <th></th>\n",
       "      <th>sepel_length</th>\n",
       "      <th>sepal_width</th>\n",
       "      <th>petal_length</th>\n",
       "      <th>petal_width</th>\n",
       "      <th>True label</th>\n",
       "      <th>Predicted</th>\n",
       "    </tr>\n",
       "  </thead>\n",
       "  <tbody>\n",
       "    <tr>\n",
       "      <th>0</th>\n",
       "      <td>5.9</td>\n",
       "      <td>3</td>\n",
       "      <td>5.1</td>\n",
       "      <td>1.8</td>\n",
       "      <td>Iris-virginica</td>\n",
       "      <td>Iris-virginica</td>\n",
       "    </tr>\n",
       "    <tr>\n",
       "      <th>1</th>\n",
       "      <td>5.4</td>\n",
       "      <td>3</td>\n",
       "      <td>4.5</td>\n",
       "      <td>1.5</td>\n",
       "      <td>Iris-versicolor</td>\n",
       "      <td>Iris-versicolor</td>\n",
       "    </tr>\n",
       "    <tr>\n",
       "      <th>2</th>\n",
       "      <td>5</td>\n",
       "      <td>3.5</td>\n",
       "      <td>1.3</td>\n",
       "      <td>0.3</td>\n",
       "      <td>Iris-setosa</td>\n",
       "      <td>Iris-setosa</td>\n",
       "    </tr>\n",
       "    <tr>\n",
       "      <th>3</th>\n",
       "      <td>5.6</td>\n",
       "      <td>3</td>\n",
       "      <td>4.5</td>\n",
       "      <td>1.5</td>\n",
       "      <td>Iris-versicolor</td>\n",
       "      <td>Iris-versicolor</td>\n",
       "    </tr>\n",
       "  </tbody>\n",
       "</table>\n",
       "</div>"
      ],
      "text/plain": [
       "  sepel_length sepal_width petal_length petal_width       True label  \\\n",
       "0          5.9           3          5.1         1.8   Iris-virginica   \n",
       "1          5.4           3          4.5         1.5  Iris-versicolor   \n",
       "2            5         3.5          1.3         0.3      Iris-setosa   \n",
       "3          5.6           3          4.5         1.5  Iris-versicolor   \n",
       "\n",
       "         Predicted  \n",
       "0   Iris-virginica  \n",
       "1  Iris-versicolor  \n",
       "2      Iris-setosa  \n",
       "3  Iris-versicolor  "
      ]
     },
     "execution_count": 113,
     "metadata": {},
     "output_type": "execute_result"
    }
   ],
   "source": [
    "n = len(Y_test) # number of example you want to predict\n",
    "true_label = Y_test[:n]\n",
    "predicted = lda.model.predict(X_test[0:n,:])\n",
    "df_predict = pd.DataFrame({dataset.columns[0]:X_test[:n,0], dataset.columns[1]:X_test[:n,1],\n",
    "                           dataset.columns[2]:X_test[:n,2], dataset.columns[3]:X_test[:n,3],\n",
    "                          'True label':Y_test[:n],'Predicted':predicted[:n]})\n",
    "df_predict.head(4)"
   ]
  },
  {
   "cell_type": "code",
   "execution_count": 112,
   "metadata": {},
   "outputs": [],
   "source": [
    "#class_pred = []\n",
    "#for index, row in df.iterrows() :\n",
    "# _dic = dict(row.value_counts())\n",
    "#class_pred.append((max(_dic, key=_dic.get)))"
   ]
  },
  {
   "cell_type": "code",
   "execution_count": null,
   "metadata": {},
   "outputs": [],
   "source": []
  }
 ],
 "metadata": {
  "kernelspec": {
   "display_name": "Python 3",
   "language": "python",
   "name": "python3"
  },
  "language_info": {
   "codemirror_mode": {
    "name": "ipython",
    "version": 3
   },
   "file_extension": ".py",
   "mimetype": "text/x-python",
   "name": "python",
   "nbconvert_exporter": "python",
   "pygments_lexer": "ipython3",
   "version": "3.7.1"
  }
 },
 "nbformat": 4,
 "nbformat_minor": 2
}
